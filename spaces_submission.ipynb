{
 "cells": [
  {
   "cell_type": "markdown",
   "id": "415d028c-d1c4-468b-bb7e-0cb09da494f1",
   "metadata": {},
   "source": [
    "# Восстановление пропущенных пробелов"
   ]
  },
  {
   "cell_type": "markdown",
   "id": "cd174328-5ae1-4a27-abf3-a35e5ec8d8ef",
   "metadata": {},
   "source": [
    "Задача — разработать модель или алгоритм, который принимает на вход текст без пробелов и возвращает восстановленный текст с правильными пробелами и позициями, где они были пропущены"
   ]
  },
  {
   "cell_type": "code",
   "execution_count": 1,
   "id": "17e424e3-a825-4cc1-99ba-928e553d8b59",
   "metadata": {},
   "outputs": [],
   "source": [
    "#Импорт библиотек\n",
    "import pandas as pd\n",
    "import re\n",
    "import math\n",
    "from wordfreq import word_frequency"
   ]
  },
  {
   "cell_type": "markdown",
   "id": "ec1ab4b6-f67a-476d-a7fc-22ad901f445b",
   "metadata": {},
   "source": [
    "### Обработка данных"
   ]
  },
  {
   "cell_type": "markdown",
   "id": "84281dfe-0f5f-4645-986d-35b2eff58413",
   "metadata": {},
   "source": [
    "Запятые в тексте неверно разделяют данные, поэтому необходимо предобработка данных: в строках все запятые после первой не будем принимать за разделители."
   ]
  },
  {
   "cell_type": "code",
   "execution_count": 2,
   "id": "a0b2b9a8-3e2e-4638-ad5f-583dfd956c48",
   "metadata": {},
   "outputs": [],
   "source": [
    "def read_data(file):\n",
    "    with open(file, 'r', encoding=\"utf-8\") as f:\n",
    "        lines = f.readlines()\n",
    "\n",
    "    text_list = []\n",
    "\n",
    "    #До 1 запятой - индекс, после - текст\n",
    "    for line in lines:\n",
    "        comma_index = line.find(\",\")\n",
    "        text_list.append(line[comma_index+1:].strip().lower())\n",
    "\n",
    "    df = pd.DataFrame({\"text_no_spaces\": text_list})\n",
    "    return df"
   ]
  },
  {
   "cell_type": "markdown",
   "id": "300a396e-98a7-4d10-9a91-96fd856e4fa2",
   "metadata": {},
   "source": [
    "Загрузим данные, первую строку, не содержащую данных, удалим"
   ]
  },
  {
   "cell_type": "code",
   "execution_count": 3,
   "id": "555864d7-5584-4818-9c01-169ad30e3003",
   "metadata": {},
   "outputs": [
    {
     "data": {
      "text/html": [
       "<div>\n",
       "<style scoped>\n",
       "    .dataframe tbody tr th:only-of-type {\n",
       "        vertical-align: middle;\n",
       "    }\n",
       "\n",
       "    .dataframe tbody tr th {\n",
       "        vertical-align: top;\n",
       "    }\n",
       "\n",
       "    .dataframe thead th {\n",
       "        text-align: right;\n",
       "    }\n",
       "</style>\n",
       "<table border=\"1\" class=\"dataframe\">\n",
       "  <thead>\n",
       "    <tr style=\"text-align: right;\">\n",
       "      <th></th>\n",
       "      <th>text_no_spaces</th>\n",
       "    </tr>\n",
       "  </thead>\n",
       "  <tbody>\n",
       "    <tr>\n",
       "      <th>1</th>\n",
       "      <td>куплюайфон14про</td>\n",
       "    </tr>\n",
       "    <tr>\n",
       "      <th>2</th>\n",
       "      <td>ищудомвподмосковье</td>\n",
       "    </tr>\n",
       "    <tr>\n",
       "      <th>3</th>\n",
       "      <td>сдаюквартирусмебельюитехникой</td>\n",
       "    </tr>\n",
       "    <tr>\n",
       "      <th>1003</th>\n",
       "      <td>весна-скоровырастеттрава.</td>\n",
       "    </tr>\n",
       "    <tr>\n",
       "      <th>1004</th>\n",
       "      <td>весна-выпосмотрите,каккрасиво.</td>\n",
       "    </tr>\n",
       "    <tr>\n",
       "      <th>1005</th>\n",
       "      <td>весна-гдемояголова?</td>\n",
       "    </tr>\n",
       "  </tbody>\n",
       "</table>\n",
       "</div>"
      ],
      "text/plain": [
       "                      text_no_spaces\n",
       "1                    куплюайфон14про\n",
       "2                 ищудомвподмосковье\n",
       "3      сдаюквартирусмебельюитехникой\n",
       "1003       весна-скоровырастеттрава.\n",
       "1004  весна-выпосмотрите,каккрасиво.\n",
       "1005             весна-гдемояголова?"
      ]
     },
     "execution_count": 3,
     "metadata": {},
     "output_type": "execute_result"
    }
   ],
   "source": [
    "df = read_data(\"dataset_1937770_3.txt\")\n",
    "df.drop(df.index[0], axis=0, inplace=True)\n",
    "pd.concat([df.head(3), df.tail(3)])"
   ]
  },
  {
   "cell_type": "markdown",
   "id": "9a80e852-ac30-4cfe-9579-ee9ec124c6fa",
   "metadata": {},
   "source": [
    "Данные больше не нуждаются в обработке"
   ]
  },
  {
   "cell_type": "markdown",
   "id": "c974d3bf-2b45-4e77-8435-cfe20ae68f66",
   "metadata": {},
   "source": [
    "### Разработка модели"
   ]
  },
  {
   "cell_type": "markdown",
   "id": "881fc678-3ace-4760-b308-aab80ba24b71",
   "metadata": {},
   "source": [
    "Идея написана в README"
   ]
  },
  {
   "cell_type": "code",
   "execution_count": 4,
   "id": "d685a89c-4c23-4a6e-bf73-bfd8e63fb67d",
   "metadata": {},
   "outputs": [],
   "source": [
    "STOPWORDS = {\"в\", \"и\", \"к\", \"с\", \"а\", \"я\", \"у\", \"о\", \"на\"}\n",
    "CLOSERS = set(\".,!?;:)]}»\")\n",
    "OPENERS = set(\"([{«\")\n",
    "QUOTES = set(\"\\\"'“”«»\")"
   ]
  },
  {
   "cell_type": "markdown",
   "id": "f20920fc-a759-4187-8895-8bbdaa774029",
   "metadata": {},
   "source": [
    "Вычисляем score, используя библиотеку wordfreq. Вычисляем штрафы и бонусы"
   ]
  },
  {
   "cell_type": "code",
   "execution_count": 5,
   "id": "53a625ae-1e4c-40e0-b4f3-83cc1de213dc",
   "metadata": {},
   "outputs": [],
   "source": [
    "def score_word(word):\n",
    "    freq = word_frequency(word, \"ru\") #вероятность встретить слово\n",
    "    score = math.log(freq + 1e-9) #правильнее вычислять сумму логарифмов, а не произведение вероятностей\n",
    "\n",
    "    if freq == 0:\n",
    "        score -= 20 #сильный штраф за неизвестное\n",
    "    if len(word) == 1 and word not in STOPWORDS:\n",
    "        score -= 5 #штраф за одиночные символы кроме STOPWORDS\n",
    "    if len(word) > 15 and freq == 0:\n",
    "        score -= 30 #штраф за длинный кусок\n",
    "\n",
    "    if \"-\" in word:\n",
    "        score += 1 #бонус за дефис\n",
    "    if re.match(r\"^\\d+[а-яa-z]+$\", word):\n",
    "        score += 2 #бонус для числа и единицы измерения\n",
    "    \n",
    "    return score"
   ]
  },
  {
   "cell_type": "markdown",
   "id": "f0c83dfc-1016-4eac-a2bc-18fe36a02c2b",
   "metadata": {},
   "source": [
    "С помощью динамического программирования разбиваем строку на слова так, чтобы суммарный score был максимален"
   ]
  },
  {
   "cell_type": "code",
   "execution_count": 6,
   "id": "27db7287-0f4d-480a-8b94-8117342d9140",
   "metadata": {},
   "outputs": [],
   "source": [
    "def segment_dp(text):\n",
    "    n = len(text)\n",
    "    dp = [(-1e9, None) for _ in range(n+1)] #инициализация таблицы dp, где dp[i] хранит набор слов и его score\n",
    "    dp[0] = (0, [])\n",
    "\n",
    "    for i in range(1, n + 1):\n",
    "        best = (-1e9, [])\n",
    "        for j in range(max(0, i - 20), i):\n",
    "            word = text[j:i]\n",
    "            sc = score_word(word) #вычисляем score для подстроки word\n",
    "            cand_score = dp[j][0] + sc #и вычисляем суммарный score\n",
    "            if cand_score > best[0]:\n",
    "                best = (cand_score, dp[j][1] + [word])\n",
    "        dp[i] = best\n",
    "\n",
    "    return dp[n][1]"
   ]
  },
  {
   "cell_type": "markdown",
   "id": "4f8141e8-8874-4236-b020-43b9bfcf0807",
   "metadata": {},
   "source": [
    "Делаем разбиение по спец. символам: знаки препинания, цифры, латиница"
   ]
  },
  {
   "cell_type": "code",
   "execution_count": 7,
   "id": "128ed263-292b-4504-867e-3eaf988ca5f8",
   "metadata": {},
   "outputs": [],
   "source": [
    "def add_segment(text):\n",
    "    #Разбиваем по знакам препинания\n",
    "    parts = re.split(r\"([.,!?;:()\\[\\]{}\\\"«»])\", text)\n",
    "\n",
    "    result = []\n",
    "    for part in parts:\n",
    "\n",
    "        #Пропускаем пробелы\n",
    "        if not part.strip(): \n",
    "            continue\n",
    "\n",
    "        #Добавляем знак пунктуации как отдельный токен\n",
    "        if re.fullmatch(r\"[.,!?;:()\\[\\]{}\\\"«»]\", part):\n",
    "            result.append(part)\n",
    "            continue\n",
    "\n",
    "        #Разбиваем по очевидным границам, где стык кириллицы и латиницы, цифры и буквы и т.д.\n",
    "        subparts = re.split(\n",
    "            r\"(?<=\\d)(?=[а-яa-zA-Z])|(?<=[а-яa-zA-Z])(?=\\d)|(?<=[a-zA-Z])(?=[а-яА-Я])|(?<=[а-яА-Я])(?=[a-zA-Z])\",\n",
    "            part,\n",
    "        )\n",
    "\n",
    "        #Для каждой части sp вызываем segment_dp\n",
    "        for sp in subparts:\n",
    "            if sp.strip():\n",
    "                result.extend(segment_dp(sp))\n",
    "\n",
    "    return result"
   ]
  },
  {
   "cell_type": "markdown",
   "id": "d9643491-7199-46be-b042-855abb3fa231",
   "metadata": {},
   "source": [
    "Собираем строку из токенов"
   ]
  },
  {
   "cell_type": "code",
   "execution_count": 8,
   "id": "e221bd65-e76d-4908-b973-26b9c1eb721e",
   "metadata": {},
   "outputs": [],
   "source": [
    "def join_tokens(tokens):\n",
    "    out = \"\"\n",
    "    for i, t in enumerate(tokens): #проходимся по каждому токену\n",
    "        if t in CLOSERS: #закрывающую пунктуацию присоединяем к левому содержимому\n",
    "            out += t\n",
    "            if i + 1 < len(tokens) and tokens[i + 1] not in CLOSERS | QUOTES: #если после не идет друого закрвыющего знака, ставим пробел\n",
    "                out += \" \"\n",
    "        elif t in OPENERS or t in QUOTES: #открывающую пунктуацию присоединяем к правому содержимому\n",
    "            if out and not out.endswith(\" \"): #если нужен пробел\n",
    "                out += \" \"\n",
    "            out += t\n",
    "        elif t == \"-\":\n",
    "            if i > 0 and i + 1 < len(tokens):\n",
    "                #Если слева и справа от \"-\" буквы, то это одно слово, пробелы не нужны\n",
    "                if re.match(r\"\\w\", tokens[i - 1]) and re.match(r\"\\w\", tokens[i + 1]):\n",
    "                    out += \"-\"\n",
    "                else:\n",
    "                    out += \" - \"\n",
    "            else:\n",
    "                out += \"-\"\n",
    "        else:\n",
    "            #Обычное слово\n",
    "            if out and not out.endswith((\" \", \"(\", \"[\", \"{\", \"«\", \"“\")):\n",
    "                out += \" \"\n",
    "            out += t\n",
    "    return out.strip()"
   ]
  },
  {
   "cell_type": "markdown",
   "id": "9315b948-a872-4021-96fb-2a80fc057743",
   "metadata": {},
   "source": [
    "Создание списка с индексами пробелов. Текст с пробелами далее генерируется с помощью созданной функции add_segment"
   ]
  },
  {
   "cell_type": "code",
   "execution_count": 9,
   "id": "65315f7c-b662-4ffa-a0b2-417c07a63030",
   "metadata": {},
   "outputs": [],
   "source": [
    "def get_space_indices(original_text, true_text):\n",
    "    space_indexes = []\n",
    "    prim = true_text\n",
    "    while prim.find(' ') != -1: #пока есть пробелы\n",
    "        space_ind = prim.find(' ')\n",
    "        space_indexes.append(space_ind)\n",
    "        prim = prim[:space_ind] + prim[space_ind+1:] #удаляем пробел, чтобы индексы не путались\n",
    "\n",
    "    return space_indexes\n"
   ]
  },
  {
   "cell_type": "markdown",
   "id": "6bc5cb50-9f68-43a2-9f69-5f56bf9a0b3f",
   "metadata": {},
   "source": [
    "Обрабатываем все тексты и сохраняем результаты"
   ]
  },
  {
   "cell_type": "code",
   "execution_count": 17,
   "id": "849a05aa-9f44-4ad6-8668-38d2f191eedf",
   "metadata": {},
   "outputs": [
    {
     "name": "stdout",
     "output_type": "stream",
     "text": [
      "   id                  original_text                       restored_text  \\\n",
      "0   0                куплюайфон14про                  куплю айфон 14 про   \n",
      "1   1             ищудомвподмосковье               ищу дом в подмосковье   \n",
      "2   2  сдаюквартирусмебельюитехникой  сдаю квартиру с мебелью и техникой   \n",
      "3   3     новыйдивандоставканедорого       новый диван доставка недорого   \n",
      "4   4                отдамдаромкошку                   отдам даром кошку   \n",
      "\n",
      "   predicted_positions  \n",
      "0          [5, 10, 12]  \n",
      "1            [3, 6, 7]  \n",
      "2  [4, 12, 13, 20, 21]  \n",
      "3          [5, 10, 18]  \n",
      "4              [5, 10]  \n"
     ]
    }
   ],
   "source": [
    "results = []\n",
    "\n",
    "for idx, text in enumerate(df[\"text_no_spaces\"]):\n",
    "    tokens = add_segment(text) #генерируем токены\n",
    "    restored_text = join_tokens(tokens) #создаем текст с пробелами\n",
    "    space_positions = get_space_indices(text, restored_text) #создаем список с пробелами\n",
    "\n",
    "    #Записываем в слоаврь\n",
    "    results.append({\n",
    "        \"id\": idx, #индекс\n",
    "        \"original_text\": text, #изначальный текст без пробелов\n",
    "        \"restored_text\": restored_text, #текст с пробелами\n",
    "        \"predicted_positions\": space_positions #индексы пробелов\n",
    "    })\n",
    "\n",
    "#Создаем DataFrame с результатами\n",
    "results_df = pd.DataFrame(results)\n",
    "print(results_df.head())"
   ]
  },
  {
   "cell_type": "markdown",
   "id": "a74e4ddc-8c3e-47e1-afae-0bc48eaeee54",
   "metadata": {},
   "source": [
    "### Оценка модели"
   ]
  },
  {
   "cell_type": "markdown",
   "id": "ffac8d98-10ec-4d92-bf56-1859a75f4910",
   "metadata": {},
   "source": [
    "Не пригодилась, все автоматизировано"
   ]
  },
  {
   "cell_type": "code",
   "execution_count": 11,
   "id": "cc8903b2-5684-463b-a012-cdc2abe2da33",
   "metadata": {},
   "outputs": [
    {
     "name": "stdout",
     "output_type": "stream",
     "text": [
      "\n"
     ]
    }
   ],
   "source": [
    "'''\n",
    "F1_list = []\n",
    "for index, row in results_df.iterrows():\n",
    "    #precision = |предсказанные ∩ истинные| / |предсказанные|\n",
    "    precision = len(set(row[\"space_positions\"]) & set(row[\"true_positions\"])) / len(row[\"space_positions\"])\n",
    "    \n",
    "    #recall = |предсказанные ∩ истинные| / |истинные|\n",
    "    recall = len(set(row[\"space_positions\"]) & set(row[\"true_positions\"])) / len(row[\"true_positions\"])\n",
    "    try:\n",
    "        F1 = 2 * (precision * recall) / (precision + recall)\n",
    "    except ZeroDivisionError:\n",
    "        F1 = 0\n",
    "    F1_list.append(F1)\n",
    "\n",
    "F1_average = sum(F1_list) / len(F1_list)\n",
    "print(F1_average)\n",
    "'''\n",
    "print()"
   ]
  },
  {
   "cell_type": "markdown",
   "id": "e8035a6e-a862-40f9-93f4-619169544b0a",
   "metadata": {},
   "source": [
    "### Файл с результатом"
   ]
  },
  {
   "cell_type": "markdown",
   "id": "2ad3cce2-e979-4743-aa2d-dfc9b499faef",
   "metadata": {},
   "source": [
    "DataFrame submission в соответствии с заданием"
   ]
  },
  {
   "cell_type": "code",
   "execution_count": 18,
   "id": "63d85dde-5842-417c-8e3d-135ff41f2e56",
   "metadata": {},
   "outputs": [
    {
     "data": {
      "text/html": [
       "<div>\n",
       "<style scoped>\n",
       "    .dataframe tbody tr th:only-of-type {\n",
       "        vertical-align: middle;\n",
       "    }\n",
       "\n",
       "    .dataframe tbody tr th {\n",
       "        vertical-align: top;\n",
       "    }\n",
       "\n",
       "    .dataframe thead th {\n",
       "        text-align: right;\n",
       "    }\n",
       "</style>\n",
       "<table border=\"1\" class=\"dataframe\">\n",
       "  <thead>\n",
       "    <tr style=\"text-align: right;\">\n",
       "      <th></th>\n",
       "      <th>id</th>\n",
       "      <th>predicted_positions</th>\n",
       "    </tr>\n",
       "  </thead>\n",
       "  <tbody>\n",
       "    <tr>\n",
       "      <th>0</th>\n",
       "      <td>0</td>\n",
       "      <td>[5, 10, 12]</td>\n",
       "    </tr>\n",
       "    <tr>\n",
       "      <th>1</th>\n",
       "      <td>1</td>\n",
       "      <td>[3, 6, 7]</td>\n",
       "    </tr>\n",
       "    <tr>\n",
       "      <th>2</th>\n",
       "      <td>2</td>\n",
       "      <td>[4, 12, 13, 20, 21]</td>\n",
       "    </tr>\n",
       "    <tr>\n",
       "      <th>3</th>\n",
       "      <td>3</td>\n",
       "      <td>[5, 10, 18]</td>\n",
       "    </tr>\n",
       "    <tr>\n",
       "      <th>4</th>\n",
       "      <td>4</td>\n",
       "      <td>[5, 10]</td>\n",
       "    </tr>\n",
       "  </tbody>\n",
       "</table>\n",
       "</div>"
      ],
      "text/plain": [
       "   id  predicted_positions\n",
       "0   0          [5, 10, 12]\n",
       "1   1            [3, 6, 7]\n",
       "2   2  [4, 12, 13, 20, 21]\n",
       "3   3          [5, 10, 18]\n",
       "4   4              [5, 10]"
      ]
     },
     "execution_count": 18,
     "metadata": {},
     "output_type": "execute_result"
    }
   ],
   "source": [
    "submission = results_df.drop([\"original_text\", \"restored_text\"], axis=1, inplace=False) #оставляем id и predicted_positions\n",
    "submission.head()"
   ]
  },
  {
   "cell_type": "code",
   "execution_count": 19,
   "id": "e0978447-dc3a-4887-ac59-f3227e7ff8ac",
   "metadata": {},
   "outputs": [],
   "source": [
    "submission.to_csv(\"submission.csv\")"
   ]
  },
  {
   "cell_type": "code",
   "execution_count": null,
   "id": "b2509ad3-d821-41af-8a91-7112cd876993",
   "metadata": {},
   "outputs": [],
   "source": []
  }
 ],
 "metadata": {
  "kernelspec": {
   "display_name": "Python 3 (ipykernel)",
   "language": "python",
   "name": "python3"
  },
  "language_info": {
   "codemirror_mode": {
    "name": "ipython",
    "version": 3
   },
   "file_extension": ".py",
   "mimetype": "text/x-python",
   "name": "python",
   "nbconvert_exporter": "python",
   "pygments_lexer": "ipython3",
   "version": "3.13.5"
  }
 },
 "nbformat": 4,
 "nbformat_minor": 5
}
